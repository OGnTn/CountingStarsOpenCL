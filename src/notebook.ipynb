{
 "cells": [
  {
   "attachments": {},
   "cell_type": "markdown",
   "metadata": {},
   "source": [
    "# Counting Stars"
   ]
  },
  {
   "attachments": {},
   "cell_type": "markdown",
   "metadata": {},
   "source": [
    "## Setup"
   ]
  },
  {
   "cell_type": "code",
   "execution_count": 20,
   "metadata": {},
   "outputs": [],
   "source": [
    "#!/usr/bin/env python3\n",
    "\n",
    "import os\n",
    "import sys\n",
    "import time\n",
    "import pyopencl as cl\n",
    "import numpy\n",
    "from PIL import Image, ImageOps\n",
    "from libs.util import *"
   ]
  },
  {
   "cell_type": "code",
   "execution_count": 21,
   "metadata": {},
   "outputs": [],
   "source": [
    "# Suppress kernel caching.\n",
    "os.environ[\"PYOPENCL_NO_CACHE\"] = \"1\"\n",
    "os.environ[\"PYOPENCL_CTX\"] = \"0\""
   ]
  },
  {
   "cell_type": "code",
   "execution_count": 22,
   "metadata": {},
   "outputs": [],
   "source": [
    "IMG_PATH = \"../images/behemoth-black-hole.jpg\"\n",
    "KERNEL_NAME_GREY = \"kernel_grey\"\n",
    "KERNEL_NAME_THRESHOLD = \"kernel_threshold\"\n",
    "KERNEL_NAME_STARS = \"kernel_stars\""
   ]
  },
  {
   "cell_type": "code",
   "execution_count": 23,
   "metadata": {},
   "outputs": [
    {
     "name": "stdout",
     "output_type": "stream",
     "text": [
      "Image dimensions: 2219x2243 with depth 3\n"
     ]
    }
   ],
   "source": [
    "img = image_to_array(IMG_PATH)\n",
    "(img_h, img_w, depth) = img.shape\n",
    "print(f\"Image dimensions: {img_h}x{img_w} with depth {depth}\")\n",
    "flat_img = img.reshape(img_h * img_w * depth).astype(numpy.uint32)"
   ]
  },
  {
   "cell_type": "code",
   "execution_count": 24,
   "metadata": {},
   "outputs": [],
   "source": [
    "# Create the context, queue and program.\n",
    "context = cl.create_some_context()\n",
    "queue = cl.CommandQueue(context)\n",
    "\n",
    "kernel_grey_code = open(\"../kernels/\" + KERNEL_NAME_GREY + \".cl\").read()\n",
    "kernel_threshold_code = open(\"../kernels/\" + KERNEL_NAME_THRESHOLD + \".cl\").read()\n",
    "kernel_stars_code = open(\"../kernels/\" + KERNEL_NAME_STARS + \".cl\").read()\n",
    "program_grey = cl.Program(context, kernel_grey_code).build()\n",
    "program_threshold = cl.Program(context, kernel_threshold_code).build()\n",
    "program_stars = cl.Program(context, kernel_stars_code).build()\n",
    "\n",
    "\n",
    "# Initialize the kernel.\n",
    "kernel_grey = program_grey.kernel_grey\n",
    "kernel_threshold = program_threshold.kernel_threshold\n",
    "kernel_stars = program_stars.kernel_stars"
   ]
  },
  {
   "attachments": {},
   "cell_type": "markdown",
   "metadata": {},
   "source": [
    "## Grayscale"
   ]
  },
  {
   "cell_type": "code",
   "execution_count": 25,
   "metadata": {},
   "outputs": [],
   "source": [
    "#set argument types\n",
    "kernel_grey.set_scalar_arg_dtypes(\n",
    "    [None, None,\n",
    "        numpy.int32, numpy.int32, numpy.int32]\n",
    ")"
   ]
  },
  {
   "cell_type": "code",
   "execution_count": 26,
   "metadata": {},
   "outputs": [],
   "source": [
    "# Create the result image.\n",
    "h_output_img = numpy.zeros(img_h * img_w * 1).astype(numpy.uint32)\n",
    "\n",
    "# Create the buffers on the device.\n",
    "d_input_img = cl.Buffer(\n",
    "    context, cl.mem_flags.READ_ONLY | cl.mem_flags.COPY_HOST_PTR, hostbuf=flat_img\n",
    ")\n",
    "\n",
    "d_output_img = cl.Buffer(context, cl.mem_flags.WRITE_ONLY, h_output_img.nbytes)"
   ]
  },
  {
   "cell_type": "code",
   "execution_count": 27,
   "metadata": {},
   "outputs": [
    {
     "name": "stdout",
     "output_type": "stream",
     "text": [
      "Executing kernel grey...\n",
      "Done executing kernel grey.\n"
     ]
    }
   ],
   "source": [
    "print(\"Executing kernel grey...\")\n",
    "kernel_grey(\n",
    "    queue,\n",
    "    (img_h, img_w),\n",
    "    None,\n",
    "    d_input_img,\n",
    "    d_output_img,\n",
    "    img_w,\n",
    "    img_h,\n",
    "    depth\n",
    ")\n",
    "print(\"Done executing kernel grey.\")\n",
    "\n",
    "queue.finish()\n",
    "cl.enqueue_copy(queue, h_output_img, d_output_img)\n",
    "queue.flush()"
   ]
  },
  {
   "cell_type": "code",
   "execution_count": 28,
   "metadata": {},
   "outputs": [],
   "source": [
    "#save gray image\n",
    "result_img = h_output_img.reshape(img_h, img_w)\n",
    "save_image_grey(result_img, \"../output/\" + \"output_\" + KERNEL_NAME_GREY + \".png\")"
   ]
  },
  {
   "attachments": {},
   "cell_type": "markdown",
   "metadata": {},
   "source": [
    "## Threshold"
   ]
  },
  {
   "cell_type": "code",
   "execution_count": 29,
   "metadata": {},
   "outputs": [],
   "source": [
    "LOCAL_SIZE = 1\n",
    "global_size = int((img_w * img_h)/LOCAL_SIZE)"
   ]
  },
  {
   "cell_type": "code",
   "execution_count": 30,
   "metadata": {},
   "outputs": [],
   "source": [
    "kernel_threshold.set_scalar_arg_dtypes(\n",
    "    [None, None,\n",
    "        numpy.int32, numpy.int32]\n",
    ")"
   ]
  },
  {
   "cell_type": "code",
   "execution_count": 31,
   "metadata": {},
   "outputs": [],
   "source": [
    "d_input_img = cl.Buffer(\n",
    "    context, cl.mem_flags.READ_ONLY | cl.mem_flags.COPY_HOST_PTR, hostbuf=h_output_img\n",
    ")\n",
    "h_input_brightness = numpy.zeros(\n",
    "    global_size).astype(numpy.uint32)\n",
    "\n",
    "d_output_brightness = cl.Buffer(\n",
    "    context, cl.mem_flags.READ_WRITE, h_input_brightness.nbytes)"
   ]
  },
  {
   "cell_type": "code",
   "execution_count": 32,
   "metadata": {},
   "outputs": [
    {
     "name": "stdout",
     "output_type": "stream",
     "text": [
      "Executing kernel threshold...\n",
      "Done executing kernel threshold.\n"
     ]
    }
   ],
   "source": [
    "print(\"Executing kernel threshold...\")\n",
    "kernel_threshold(\n",
    "    queue,\n",
    "    (global_size, 1),\n",
    "    (LOCAL_SIZE, 1),\n",
    "    d_output_img,\n",
    "    d_output_brightness,\n",
    "    img_w,\n",
    "    img_h\n",
    ")\n",
    "print(\"Done executing kernel threshold.\")\n",
    "queue.finish()\n",
    "cl.enqueue_copy(queue, h_input_brightness, d_output_brightness)\n",
    "queue.flush()"
   ]
  },
  {
   "cell_type": "code",
   "execution_count": 33,
   "metadata": {},
   "outputs": [
    {
     "name": "stdout",
     "output_type": "stream",
     "text": [
      "Brightness:  271672305\n",
      "the threshold is:  109\n"
     ]
    }
   ],
   "source": [
    "print(\"Brightness: \", h_input_brightness.sum())\n",
    "threshold = 2 * h_input_brightness.sum()/(img_w * img_h)\n",
    "threshold = math.floor(threshold)\n",
    "print(\"the threshold is: \", threshold)"
   ]
  },
  {
   "attachments": {},
   "cell_type": "markdown",
   "metadata": {},
   "source": [
    "## Stars"
   ]
  },
  {
   "cell_type": "code",
   "execution_count": 34,
   "metadata": {},
   "outputs": [],
   "source": [
    "LOCAL_SIZE = 4\n",
    "global_size = int((img_w * img_h)/LOCAL_SIZE)"
   ]
  },
  {
   "cell_type": "code",
   "execution_count": 35,
   "metadata": {},
   "outputs": [],
   "source": [
    "kernel_stars.set_scalar_arg_dtypes(\n",
    "    [None, None,\n",
    "        numpy.int32, numpy.int32, numpy.int32]\n",
    ")"
   ]
  },
  {
   "cell_type": "code",
   "execution_count": 36,
   "metadata": {},
   "outputs": [],
   "source": [
    "d_input_img = cl.Buffer(\n",
    "    context, cl.mem_flags.READ_ONLY | cl.mem_flags.COPY_HOST_PTR, hostbuf=h_output_img\n",
    ")\n",
    "h_input_count = numpy.zeros(\n",
    "    global_size).astype(numpy.uint32)\n",
    "d_output_count = cl.Buffer(\n",
    "    context, cl.mem_flags.READ_WRITE, h_input_brightness.nbytes)"
   ]
  },
  {
   "cell_type": "code",
   "execution_count": 37,
   "metadata": {},
   "outputs": [
    {
     "name": "stdout",
     "output_type": "stream",
     "text": [
      "Executing stars kernel...\n",
      "Done executing stars kernel.\n"
     ]
    }
   ],
   "source": [
    "print(\"Executing stars kernel...\")\n",
    "kernel_stars(\n",
    "    queue,\n",
    "    (global_size, 1),\n",
    "    (LOCAL_SIZE, 1),\n",
    "    d_input_img,\n",
    "    d_output_count,\n",
    "    threshold,\n",
    "    img_h,\n",
    "    img_w\n",
    ")\n",
    "print(\"Done executing stars kernel.\")\n",
    "queue.finish()\n",
    "cl.enqueue_copy(queue, h_input_count, d_output_count)\n",
    "queue.flush()"
   ]
  },
  {
   "cell_type": "code",
   "execution_count": 38,
   "metadata": {},
   "outputs": [
    {
     "name": "stdout",
     "output_type": "stream",
     "text": [
      "Count:  67419\n"
     ]
    }
   ],
   "source": [
    "print(\"Count: \", sum(h_input_count))"
   ]
  }
 ],
 "metadata": {
  "kernelspec": {
   "display_name": "base",
   "language": "python",
   "name": "python3"
  },
  "language_info": {
   "codemirror_mode": {
    "name": "ipython",
    "version": 3
   },
   "file_extension": ".py",
   "mimetype": "text/x-python",
   "name": "python",
   "nbconvert_exporter": "python",
   "pygments_lexer": "ipython3",
   "version": "3.8.13"
  },
  "orig_nbformat": 4
 },
 "nbformat": 4,
 "nbformat_minor": 2
}
